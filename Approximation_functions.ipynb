{
 "cells": [
  {
   "cell_type": "code",
   "execution_count": 8,
   "id": "a1c596d0",
   "metadata": {},
   "outputs": [],
   "source": [
    "from __future__ import division\n",
    "import numpy as np\n",
    "import csv\n",
    "np.random.seed(0)\n",
    "import matplotlib.pyplot as plt"
   ]
  },
  {
   "cell_type": "code",
   "execution_count": 2,
   "id": "22fb5b0b",
   "metadata": {},
   "outputs": [],
   "source": [
    "def top_k(A,B,K):\n",
    "    # calculate norms of the columns of A and rows of B\n",
    "    a_col_norms = np.linalg.norm(A,axis=0)\n",
    "    b_row_norms = np.linalg.norm(B,axis=1)\n",
    "    \n",
    "    # multiply both norms element-wise to and pick the indices of the top K column-row pairs\n",
    "    norm_mult = np.multiply(a_col_norms,b_row_norms)\n",
    "    top_k_indices = np.sort(np.argsort(norm_mult)[::-1][:K])\n",
    "    \n",
    "    # pick top-k column-row pairs to form new smaller matrices\n",
    "    A_top_k_cols = A[:,top_k_indices]\n",
    "    B_top_k_rows = B[top_k_indices,:]\n",
    "       \n",
    "    # multiply smaller matrices\n",
    "    C_approx = np.dot(A_top_k_cols, B_top_k_rows)\n",
    "    return C_approx"
   ]
  },
  {
   "cell_type": "code",
   "execution_count": 6,
   "id": "f2b64fd1",
   "metadata": {},
   "outputs": [],
   "source": [
    "''' A,B - input matrices\n",
    "    K - number of column-row elements to sample\n",
    "    with_replacement - True means sampling is done with replacement, False means sampling without replacement\n",
    "    optimal_prob - True means sampling probability is proportional to |Ai|*|Bj|. False means random distribution\n",
    "    scale - True means each column-row is scaled by 1/sqrt(K*pi) to ensure bias 0\n",
    "'''\n",
    "def column_row(A,B,K,with_replacement = True, optimal_prob = True, scale=True, debug=False):\n",
    "    # calculate norms of the columns of A and rows of B\n",
    "    a_col_norms = np.linalg.norm(A,axis=0)\n",
    "    b_row_norms = np.linalg.norm(B,axis=1)\n",
    "   \n",
    "    # multiply both norms element-wise\n",
    "    norm_mult = np.multiply(a_col_norms,b_row_norms)\n",
    "    sum_norm_mult = np.sum(norm_mult)\n",
    "    \n",
    "    if optimal_prob == True and sum_norm_mult != 0:\n",
    "        prob_dist = norm_mult/sum_norm_mult\n",
    "    else:\n",
    "        prob_dist = np.ones(A.shape[1])/A.shape[1] # uniform distributionwill be treated as uniform by np.random.choice \n",
    "    \n",
    "    # scale input matrices according to probabilities.\n",
    "    # For convenience we implement it by creating a diagonal matrix and multiplying (other implementations are possible).\n",
    "    if scale == True:\n",
    "        scale_matrix = np.diag(np.divide(1,np.sqrt(np.multiply(K,prob_dist))))\n",
    "    else:\n",
    "        scale_matrix = np.diag(np.ones(A.shape[1]))\n",
    "\n",
    "    A_scaled = np.dot(A,scale_matrix)\n",
    "    B_scaled = np.dot(scale_matrix,B)\n",
    "    \n",
    "    sample_indices = np.random.choice(A.shape[1], size=K, replace=with_replacement, p=prob_dist)\n",
    "    \n",
    "    # sample k column-row pairs to form new smaller matrices\n",
    "    A_k_cols = A_scaled[:,sample_indices]\n",
    "    B_k_rows = B_scaled[sample_indices,:]\n",
    "       \n",
    "    # multiply smaller matrices\n",
    "    C_approx = np.dot(A_k_cols, B_k_rows)\n",
    "\n",
    "    if debug == True:\n",
    "        print ('a_col_norms is ' + str(a_col_norms))\n",
    "        print ('b_row_norms is ' + str(b_row_norms))\n",
    "        print ('norm_mult is ' + str(norm_mult))\n",
    "        print ('sum_norm_mult is ' + str(sum_norm_mult))\n",
    "        print ('prob_dist is ' + str(prob_dist))\n",
    "        print ('scale matrix is ' + str(scale_matrix))\n",
    "        print ('A_scaled is ' + str(A_scaled))\n",
    "        print ('B_scaled is ' + str(B_scaled))\n",
    "        print ('sample_indices are ' + str(sample_indices))\n",
    "        print ('Frobenius error bound is '+ str(sum_norm_mult**2/K -  np.linalg.norm(A.dot(B)/K)))\n",
    "        print ('A_k_cols is ')\n",
    "        print (A_k_cols)\n",
    "        print ('B_k_rows is ')\n",
    "        print (B_k_rows)\n",
    "        print ('C_approx is ')\n",
    "        print (C_approx)\n",
    "    \n",
    "    return C_approx"
   ]
  },
  {
   "cell_type": "code",
   "execution_count": 4,
   "id": "a42d2c7f",
   "metadata": {},
   "outputs": [],
   "source": [
    "''' A,B - input matrices\n",
    "    K - sampling parameter\n",
    "    scale - True means each column-row is scaled by 1/sqrt(pi) to ensure bias 0\n",
    "'''\n",
    "def column_row_bern(A,B,K, scale=True, debug=False):\n",
    "    # calculate norms of the columns of A and rows of B\n",
    "    a_col_norms = np.linalg.norm(A,axis=0)\n",
    "    b_row_norms = np.linalg.norm(B,axis=1)\n",
    "   \n",
    "    # multiply both norms element-wise\n",
    "    norm_mult = np.multiply(a_col_norms,b_row_norms)\n",
    "    sum_norm_mult = np.sum(norm_mult)\n",
    "    \n",
    "    if sum_norm_mult != 0:\n",
    "        prob_dist = K*norm_mult/sum_norm_mult\n",
    "    else:\n",
    "        prob_dist = np.ones(A.shape[1]) \n",
    "    \n",
    "    prob_dist = np.clip(prob_dist,0,1)\n",
    "    \n",
    "    # scale input matrices according to probabilities.\n",
    "    # For convenience we implement it by creating a diagonal matrix and multiplying (other implementations are possible).\n",
    "    if scale == True:\n",
    "        scale_matrix = np.diag(np.divide(1,np.sqrt(prob_dist)))\n",
    "    else:\n",
    "        scale_matrix = np.diag(np.ones(A.shape[1]))\n",
    "\n",
    "    A_scaled = np.dot(A,scale_matrix)\n",
    "    B_scaled = np.dot(scale_matrix,B)\n",
    "    \n",
    "    bern = np.random.binomial(1, prob_dist)\n",
    "    \n",
    "    sample_indices = np.where(bern == 1)[0]\n",
    "    \n",
    "    # sample k column-row pairs to form new smaller matrices\n",
    "    A_k_cols = A_scaled[:,sample_indices]\n",
    "    B_k_rows = B_scaled[sample_indices,:]\n",
    "       \n",
    "    # multiply smaller matrices\n",
    "    C_approx = np.dot(A_k_cols, B_k_rows)\n",
    "  \n",
    "    if debug == True:\n",
    "        print ('a_col_norms is ' + str(a_col_norms))\n",
    "        print ('b_row_norms is ' + str(b_row_norms))\n",
    "        print ('norm_mult is ' + str(norm_mult))\n",
    "        print ('sum_norm_mult is ' + str(sum_norm_mult))\n",
    "        print ('prob_dist is ' + str(prob_dist))\n",
    "        print ('scale matrix is ' + str(scale_matrix))\n",
    "        print ('A_scaled is ' + str(A_scaled))\n",
    "        print ('B_scaled is ' + str(B_scaled))\n",
    "        print ('sample_indices are ' + str(sample_indices))\n",
    "        print ('num sampled indices is ' + str(len(sample_indices)))\n",
    "        print ('Frobenius error bound is '+ str(sum_norm_mult**2/K - np.sum(np.multiply(np.multiply(a_col_norms,a_col_norms),np.multiply(b_row_norms,b_row_norms)))))\n",
    "        print ('A_k_cols is ')\n",
    "        print (A_k_cols)\n",
    "        print ('B_k_rows is ')\n",
    "        print (B_k_rows)\n",
    "        print ('C_approx is ')\n",
    "        print (C_approx)\n",
    "    \n",
    "    return C_approx"
   ]
  },
  {
   "cell_type": "code",
   "execution_count": 15,
   "id": "607d9b7f",
   "metadata": {},
   "outputs": [],
   "source": [
    "def get_stats(A,B,approx):\n",
    "    \n",
    "    \n",
    "    # Calculate accurate multiplication result C=AB\n",
    "    acc = np.dot(A,B)\n",
    "    \n",
    "    # Normalized Frobenius error F(acc-approx)/(F(A)F(B))\n",
    "    normalized_frobenius_error= np.linalg.norm(acc-approx, ord='fro')/(np.linalg.norm(A, ord='fro')*np.linalg.norm(B, ord='fro'))\n",
    "    \n",
    "    \n",
    "    \n",
    "    return normalized_frobenius_error\n",
    "    "
   ]
  },
  {
   "cell_type": "code",
   "execution_count": 31,
   "id": "27afe677",
   "metadata": {},
   "outputs": [],
   "source": [
    "# initialize 100x100 random matrices (~N(0,1)\n",
    "M = 100\n",
    "K = 100\n",
    "N = 100\n",
    "\n",
    "              \n",
    "\n",
    "A = np.random.normal(loc=1, scale=1, size=(M,K))\n",
    "        \n",
    "B = np.random.normal(loc=1, scale=1, size=(K,N))\n",
    "\n",
    "top_e = []\n",
    "crs_e = []\n",
    "bern_e =[]\n",
    "\n",
    "\n",
    "repeat_experiments = 1000\n",
    "\n",
    "for k in range(1,K+1,1): \n",
    "    \n",
    "    err_top_k = 0\n",
    "    err_crs = 0\n",
    "    err_bern = 0\n",
    "    for n in range(repeat_experiments):\n",
    "        A = np.random.normal(loc=1, scale=1, size=(M,K))\n",
    "\n",
    "        B = np.random.normal(loc=1, scale=1, size=(K,N))\n",
    "        # Calculate the product AB using different approximation algorithms\n",
    "        C_approx_top_k = top_k(A,B,k)\n",
    "        err_top_k += get_stats(A,B,C_approx_top_k)\n",
    "        \n",
    "\n",
    "        C_approx_crs = column_row(A,B,k,with_replacement=True, optimal_prob=True, scale=True)\n",
    "        err_crs += get_stats(A,B,C_approx_crs)\n",
    "        \n",
    "\n",
    "\n",
    "        C_approx_bern = column_row_bern(A,B,k, scale=True)\n",
    "        err_bern += get_stats(A,B,C_approx_bern)\n",
    "        \n",
    "        \n",
    "    top_e.append(err_top_k/1000)\n",
    "    crs_e.append(err_crs/1000)\n",
    "    bern_e.append(err_bern/1000)\n"
   ]
  },
  {
   "cell_type": "code",
   "execution_count": 32,
   "id": "bf184009",
   "metadata": {},
   "outputs": [],
   "source": [
    "top = np.array(top_e)\n",
    "crs = np.array(crs_e)\n",
    "bern = np.array(bern_e)"
   ]
  },
  {
   "cell_type": "code",
   "execution_count": 33,
   "id": "1703cf11",
   "metadata": {},
   "outputs": [
    {
     "data": {
      "text/plain": [
       "(100,)"
      ]
     },
     "execution_count": 33,
     "metadata": {},
     "output_type": "execute_result"
    }
   ],
   "source": [
    "top.shape"
   ]
  },
  {
   "cell_type": "code",
   "execution_count": 35,
   "id": "5ce0564d",
   "metadata": {},
   "outputs": [
    {
     "data": {
      "image/png": "[encoded data removed]",
      "text/plain": [
       "<Figure size 432x288 with 1 Axes>"
      ]
     },
     "metadata": {
      "needs_background": "light"
     },
     "output_type": "display_data"
    }
   ],
   "source": [
    "p = np.linspace(1, 100, 100)\n",
    "\n",
    "plt.plot(p, top, label='top-k')\n",
    "plt.plot(p, crs, label='CRS')\n",
    "plt.plot(p, bern, label='Bernoulli')\n",
    "\n",
    "plt.xlabel('% of computation')\n",
    "plt.ylabel('Approximation Error')\n",
    "\n",
    "plt.title(\"Approximation Methods Comparison\")\n",
    "\n",
    "plt.legend()\n",
    "plt.savefig('app.png')\n",
    "plt.show()"
   ]
  },
  {
   "cell_type": "code",
   "execution_count": 20,
   "id": "8350d7f5",
   "metadata": {},
   "outputs": [
    {
     "data": {
      "text/plain": [
       "array([1., 1., 1., 1., 1., 1., 1., 1., 1., 1., 1., 1., 1., 1., 1., 1., 1.,\n",
       "       1., 1., 1., 1., 1., 1., 1., 1., 1., 1., 1., 1., 1., 1., 1., 1., 1.,\n",
       "       1., 1., 1., 1., 1., 1., 1., 1., 1., 1., 1., 1., 1., 1., 1., 1., 1.,\n",
       "       1., 1., 1., 1., 1., 1., 1., 1., 1., 1., 1., 1., 1., 1., 1., 1., 1.,\n",
       "       1., 1., 1., 1., 1., 1., 1., 1., 1., 1., 1., 1., 1., 1., 1., 1., 1.,\n",
       "       1., 1., 1., 1., 1., 1., 1., 1., 1., 1., 1., 1., 1., 1., 1.])"
      ]
     },
     "execution_count": 20,
     "metadata": {},
     "output_type": "execute_result"
    }
   ],
   "source": [
    "p"
   ]
  },
  {
   "cell_type": "code",
   "execution_count": null,
   "id": "b84122a7",
   "metadata": {},
   "outputs": [],
   "source": []
  }
 ],
 "metadata": {
  "kernelspec": {
   "display_name": "Python 3 (ipykernel)",
   "language": "python",
   "name": "python3"
  },
  "language_info": {
   "codemirror_mode": {
    "name": "ipython",
    "version": 3
   },
   "file_extension": ".py",
   "mimetype": "text/x-python",
   "name": "python",
   "nbconvert_exporter": "python",
   "pygments_lexer": "ipython3",
   "version": "3.7.13"
  }
 },
 "nbformat": 4,
 "nbformat_minor": 5
}
